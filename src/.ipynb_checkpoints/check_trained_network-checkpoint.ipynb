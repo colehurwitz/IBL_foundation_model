{
 "cells": [
  {
   "cell_type": "code",
   "execution_count": 1,
   "metadata": {},
   "outputs": [],
   "source": [
    "import argparse\n",
    "from math import ceil\n",
    "import argparse\n",
    "from accelerate import Accelerator\n",
    "from loader.data_loader import *\n",
    "from utils.utils import set_seed, dummy_load\n",
    "from utils.config_utils import config_from_kwargs, update_config\n",
    "from models.ndt1 import NDT1\n",
    "from torch.optim.lr_scheduler import OneCycleLR\n",
    "import torch\n",
    "import numpy as np\n",
    "import os\n",
    "from trainer.make import make_trainer\n",
    "from utils.eval_utils import load_model_data_local, co_smoothing_eval, behavior_decoding\n",
    "import threading\n",
    "import warnings\n",
    "warnings.simplefilter(\"ignore\")\n",
    "\n",
    "os.environ['CUDA_LAUNCH_BLOCKING'] = \"1\"\n",
    "\n",
    "ap = argparse.ArgumentParser()\n",
    "ap.add_argument(\"--test_eid\", type=int, default=[24,29,127,128,171,172])\n",
    "ap.add_argument(\"--mask_ratio\", type=float, default=0.3)\n",
    "ap.add_argument(\"--mask_mode\", type=str, default=\"all\")\n",
    "ap.add_argument(\"--model_name\", type=str, default=\"NDT1\")\n",
    "ap.add_argument(\"--prompting\", type=str, default=\"False\")\n",
    "ap.add_argument(\"--train\", type=str, default=\"True\")\n",
    "ap.add_argument(\"--eval\", type=str, default=\"True\")\n",
    "ap.add_argument(\"--base_path\", type=str, default='/mnt/smb/locker/miller-locker/users/jx2484/results/')\n",
    "ap.add_argument(\"--num_train_sessions\", type=int, default=6)\n",
    "ap.add_argument('--use_dummy', action='store_true')\n",
    "args = ap.parse_args()\n",
    "\n",
    "eids = args.test_eid\n",
    "base_path = args.base_path\n",
    "model_acroynm = args.model_name.lower()\n",
    "num_train_sessions = args.num_train_sessions\n",
    "assert num_train_sessions > 0, 'num_train_sessions should be greater than 0.'"
   ]
  },
  {
   "cell_type": "code",
   "execution_count": null,
   "metadata": {},
   "outputs": [],
   "source": [
    "model_name = args.model_name\n",
    "mask_name = f\"mask_{args.mask_mode}\"\n",
    "n_time_steps = 400\n",
    "\n",
    "model_config = f\"src/configs/{model_acroynm}_stitching_eval.yaml\"\n",
    "\n",
    "configs = {\n",
    "    'model_config': model_config,\n",
    "    'model_path': f'{base_path}/finetune/num_session_{num_train_sessions}/model_NDT1/method_ssl/{mask_name}/stitch_True/{eids}/model_best.pt',\n",
    "    'trainer_config': f'src/configs/finetune_sessions_trainer.yaml',\n",
    "    'dataset_path': None, \n",
    "    'test_size': 0.2,\n",
    "    'seed': 42,\n",
    "    'mask_name': mask_name,\n",
    "    'eids': eids,\n",
    "    'stitching': True,\n",
    "    'num_sessions': 1 \n",
    "}  \n",
    "\n",
    "\n",
    "# load your model and dataloader\n",
    "model, accelerator = load_model_data_local(meta_data, **configs)"
   ]
  }
 ],
 "metadata": {
  "kernelspec": {
   "display_name": "Python 3 (ipykernel)",
   "language": "python",
   "name": "python3"
  },
  "language_info": {
   "codemirror_mode": {
    "name": "ipython",
    "version": 3
   },
   "file_extension": ".py",
   "mimetype": "text/x-python",
   "name": "python",
   "nbconvert_exporter": "python",
   "pygments_lexer": "ipython3",
   "version": "3.10.8"
  }
 },
 "nbformat": 4,
 "nbformat_minor": 2
}
