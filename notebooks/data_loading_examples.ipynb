{
 "cells": [
  {
   "cell_type": "code",
   "execution_count": 1,
   "id": "008f1592-d64b-46b1-abaa-902f979a833b",
   "metadata": {},
   "outputs": [],
   "source": [
    "import sys\n",
    "from pathlib import Path\n",
    "path_root = \"../\"\n",
    "sys.path.append(str(path_root))"
   ]
  },
  {
   "cell_type": "code",
   "execution_count": 2,
   "id": "e7c856ae-212a-4879-878e-ec8820cf43c5",
   "metadata": {},
   "outputs": [
    {
     "name": "stderr",
     "output_type": "stream",
     "text": [
      "/home/yizi/anaconda3/envs/ibl_foundation_model/lib/python3.11/site-packages/neurodsp/__init__.py:5: FutureWarning: neurodsp has been renamed to ibldsp and the old name will be deprecated on 01-Sep-2024.\n",
      "  warn(\n",
      "/home/yizi/anaconda3/envs/ibl_foundation_model/lib/python3.11/site-packages/ibllib/atlas/__init__.py:205: DeprecationWarning: ibllib.atlas is deprecated. Please install iblatlas using \"pip install iblatlas\" and use this module instead\n",
      "  warnings.warn('ibllib.atlas is deprecated. Please install iblatlas using \"pip install iblatlas\" and use '\n"
     ]
    }
   ],
   "source": [
    "import numpy as np\n",
    "import pandas as pd\n",
    "from one.api import ONE\n",
    "from brainbox.io.one import SessionLoader, SpikeSortingLoader\n",
    "from iblatlas.atlas import AllenAtlas\n",
    "from utils.ibl_data_loading import load_spiking_data"
   ]
  },
  {
   "cell_type": "code",
   "execution_count": 7,
   "id": "3440bc11-74b5-4595-9aea-289d15e4e157",
   "metadata": {},
   "outputs": [
    {
     "name": "stderr",
     "output_type": "stream",
     "text": [
      "/home/yizi/anaconda3/envs/ibl_foundation_model/lib/python3.11/site-packages/one/params.py:184: UserWarning: Warning: the directory provided is already a cache for another URL.\n",
      "  warnings.warn('Warning: the directory provided is already a cache for another URL.')\n"
     ]
    }
   ],
   "source": [
    "# Instantiate ONE\n",
    "ONE.setup(base_url='https://openalyx.internationalbrainlab.org', \n",
    "          silent=True, \n",
    "          cache_dir='/mnt/3TB/yizi/Downloads/ONE/openalyx.internationalbrainlab.org'\n",
    ")\n",
    "one = ONE(password='international')\n",
    "ba = AllenAtlas()"
   ]
  },
  {
   "cell_type": "code",
   "execution_count": 4,
   "id": "4404c5c0-96bd-4f41-9999-088434b62813",
   "metadata": {},
   "outputs": [],
   "source": [
    "# List all publicly available sessions\n",
    "# sessions = one.search()\n",
    "\n",
    "# List all sessions from the brain-wide-map project\n",
    "# Note: Not all sessions will have behaviors recorded so we can use sessions \n",
    "#       w/ behaviors for supervised tasks and those w/o for SSL\n",
    "# sessions = one.search(project='brainwide')\n",
    "\n",
    "# List brainwide map sessions that pass the most important quality controls\n",
    "# Note: Let's first work with these good quality sessions, and \n",
    "#       transition to using more sessions later on\n",
    "freeze_file = \"../data/2023_12_bwm_release.csv\"\n",
    "bwm_df = bwm_df = pd.read_csv(freeze_file, index_col=0)"
   ]
  },
  {
   "cell_type": "code",
   "execution_count": 5,
   "id": "9941a62a-93e3-474b-bddc-0162f663694c",
   "metadata": {},
   "outputs": [],
   "source": [
    "pid = bwm_df.pid[0]\n",
    "eid, probe = one.pid2eid(pid)"
   ]
  },
  {
   "cell_type": "code",
   "execution_count": 8,
   "id": "47f6cfe6-1f7b-4963-b00c-04ef53b8bd4e",
   "metadata": {},
   "outputs": [],
   "source": [
    "spikes, clusters = load_spiking_data(one, pid)"
   ]
  },
  {
   "cell_type": "code",
   "execution_count": null,
   "id": "e7700da0-f039-4871-96f5-4dd1b365b02e",
   "metadata": {},
   "outputs": [],
   "source": []
  },
  {
   "cell_type": "code",
   "execution_count": null,
   "id": "5054d75c-f609-486e-bc16-ad4aabd01140",
   "metadata": {},
   "outputs": [],
   "source": []
  }
 ],
 "metadata": {
  "kernelspec": {
   "display_name": "Python 3 (ipykernel)",
   "language": "python",
   "name": "python3"
  },
  "language_info": {
   "codemirror_mode": {
    "name": "ipython",
    "version": 3
   },
   "file_extension": ".py",
   "mimetype": "text/x-python",
   "name": "python",
   "nbconvert_exporter": "python",
   "pygments_lexer": "ipython3",
   "version": "3.11.7"
  }
 },
 "nbformat": 4,
 "nbformat_minor": 5
}
