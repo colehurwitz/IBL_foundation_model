{
 "cells": [
  {
   "cell_type": "code",
   "execution_count": 1,
   "id": "e7c856ae-212a-4879-878e-ec8820cf43c5",
   "metadata": {},
   "outputs": [
    {
     "name": "stderr",
     "output_type": "stream",
     "text": [
      "/home/berk/anaconda3/envs/ibl_foundation_model/lib/python3.11/site-packages/neurodsp/__init__.py:5: FutureWarning: neurodsp has been renamed to ibldsp and the old name will be deprecated on 01-Sep-2024.\n",
      "  warn(\n",
      "/home/berk/anaconda3/envs/ibl_foundation_model/lib/python3.11/site-packages/tqdm/auto.py:21: TqdmWarning: IProgress not found. Please update jupyter and ipywidgets. See https://ipywidgets.readthedocs.io/en/stable/user_install.html\n",
      "  from .autonotebook import tqdm as notebook_tqdm\n"
     ]
    }
   ],
   "source": [
    "import sys\n",
    "from pathlib import Path\n",
    "path_root = '../'\n",
    "sys.path.append(str(path_root))\n",
    "\n",
    "import numpy as np\n",
    "import pandas as pd\n",
    "from matplotlib import pyplot as plt\n",
    "\n",
    "from one.api import ONE\n",
    "from brainbox.io.one import SessionLoader, SpikeSortingLoader\n",
    "from iblatlas.atlas import AllenAtlas\n",
    "from utils.ibl_data_utils import (\n",
    "    load_spiking_data, load_trials_and_mask, merge_probes,\n",
    "    load_trial_behaviors, load_anytime_behaviors,\n",
    "    prepare_data, \n",
    "    select_brain_regions, list_brain_regions, \n",
    "    bin_spiking_data, \n",
    ")\n",
    "from utils.dataset import create_dataset, upload_dataset, download_dataset, get_binned_spikes_from_sparse"
   ]
  },
  {
   "cell_type": "markdown",
   "id": "eb84d05b-c842-44e7-8904-336d9c7b9ffd",
   "metadata": {},
   "source": [
    "##### Data Loading Example (Single Session)"
   ]
  },
  {
   "cell_type": "code",
   "execution_count": 2,
   "id": "3440bc11-74b5-4595-9aea-289d15e4e157",
   "metadata": {},
   "outputs": [],
   "source": [
    "# Instantiate ONE\n",
    "ONE.setup(base_url='https://openalyx.internationalbrainlab.org', \n",
    "          silent=True, \n",
    "        #   cache_dir='/mnt/3TB/yizi/Downloads/ONE/openalyx.internationalbrainlab.org'\n",
    ")\n",
    "one = ONE(password='international')\n",
    "ba = AllenAtlas()"
   ]
  },
  {
   "cell_type": "code",
   "execution_count": 3,
   "id": "4404c5c0-96bd-4f41-9999-088434b62813",
   "metadata": {},
   "outputs": [],
   "source": [
    "# List all publicly available sessions\n",
    "# sessions = one.search()\n",
    "\n",
    "# List all sessions from the brain-wide-map project\n",
    "# Note: Not all sessions will have behaviors recorded so we can use sessions \n",
    "#       w/ behaviors for supervised tasks and those w/o for SSL\n",
    "# sessions = one.search(project='brainwide')\n",
    "\n",
    "# List brainwide map sessions that pass the most important quality controls\n",
    "# Note: Let's first work with these good quality sessions, and \n",
    "#       transition to using more sessions later on\n",
    "freeze_file = '../data/2023_12_bwm_release.csv'\n",
    "bwm_df = pd.read_csv(freeze_file, index_col=0)"
   ]
  },
  {
   "cell_type": "code",
   "execution_count": 4,
   "id": "9941a62a-93e3-474b-bddc-0162f663694c",
   "metadata": {},
   "outputs": [],
   "source": [
    "# Load an example session\n",
    "idx = 400\n",
    "pid = bwm_df.pid[idx]\n",
    "eid, probe = one.pid2eid(pid)"
   ]
  },
  {
   "cell_type": "code",
   "execution_count": 5,
   "id": "47f6cfe6-1f7b-4963-b00c-04ef53b8bd4e",
   "metadata": {},
   "outputs": [],
   "source": [
    "# Load spike sorting data\n",
    "spikes, clusters = load_spiking_data(one, pid)"
   ]
  },
  {
   "cell_type": "code",
   "execution_count": 6,
   "id": "8f844fc0-abe5-43ae-92f5-cf9b419fce23",
   "metadata": {},
   "outputs": [],
   "source": [
    "# We may not want to train the model with data within trials, but we may need it for eval purposes.\n",
    "# Load trials data and mask. Trials are excluded in the mask if reaction time is too long or too short,\n",
    "# or if critical trial events are missing.\n",
    "trials, mask = load_trials_and_mask(one, eid, min_rt=0.08, max_rt=2., nan_exclude='default')"
   ]
  },
  {
   "cell_type": "code",
   "execution_count": 7,
   "id": "1fb1752b-7941-4e39-a23a-c1d3768c6a88",
   "metadata": {},
   "outputs": [
    {
     "name": "stdout",
     "output_type": "stream",
     "text": [
      "dict_keys(['wheel-position', 'wheel-velocity', 'wheel-speed', 'left-whisker-motion-energy', 'right-whisker-motion-energy', 'left-pupil-diameter', 'right-pupil-diameter', 'left-camera-left-paw-speed', 'left-camera-right-paw-speed', 'right-camera-left-paw-speed', 'right-camera-right-paw-speed', 'left-nose-speed', 'right-nose-speed'])\n"
     ]
    }
   ],
   "source": [
    "# Load behaviors for any-time decoding\n",
    "anytime_behaviors = load_anytime_behaviors(one, eid)\n",
    "print(anytime_behaviors.keys())"
   ]
  },
  {
   "cell_type": "code",
   "execution_count": 8,
   "id": "50ebca51",
   "metadata": {},
   "outputs": [
    {
     "data": {
      "text/html": [
       "<div>\n",
       "<style scoped>\n",
       "    .dataframe tbody tr th:only-of-type {\n",
       "        vertical-align: middle;\n",
       "    }\n",
       "\n",
       "    .dataframe tbody tr th {\n",
       "        vertical-align: top;\n",
       "    }\n",
       "\n",
       "    .dataframe thead th {\n",
       "        text-align: right;\n",
       "    }\n",
       "</style>\n",
       "<table border=\"1\" class=\"dataframe\">\n",
       "  <thead>\n",
       "    <tr style=\"text-align: right;\">\n",
       "      <th></th>\n",
       "      <th>uuids</th>\n",
       "      <th>channels</th>\n",
       "      <th>depths</th>\n",
       "      <th>cluster_id</th>\n",
       "      <th>amp_max</th>\n",
       "      <th>amp_min</th>\n",
       "      <th>amp_median</th>\n",
       "      <th>amp_std_dB</th>\n",
       "      <th>contamination</th>\n",
       "      <th>contamination_alt</th>\n",
       "      <th>...</th>\n",
       "      <th>spike_count</th>\n",
       "      <th>firing_rate</th>\n",
       "      <th>label</th>\n",
       "      <th>x</th>\n",
       "      <th>y</th>\n",
       "      <th>z</th>\n",
       "      <th>acronym</th>\n",
       "      <th>atlas_id</th>\n",
       "      <th>axial_um</th>\n",
       "      <th>lateral_um</th>\n",
       "    </tr>\n",
       "  </thead>\n",
       "  <tbody>\n",
       "    <tr>\n",
       "      <th>0</th>\n",
       "      <td>95d74905-786b-4357-a91d-5d394ae4e7a3</td>\n",
       "      <td>2</td>\n",
       "      <td>40.0</td>\n",
       "      <td>0</td>\n",
       "      <td>0.000134</td>\n",
       "      <td>0.000040</td>\n",
       "      <td>0.000053</td>\n",
       "      <td>2.634385</td>\n",
       "      <td>0.211892</td>\n",
       "      <td>0.162537</td>\n",
       "      <td>...</td>\n",
       "      <td>4389.0</td>\n",
       "      <td>0.768053</td>\n",
       "      <td>0.333333</td>\n",
       "      <td>-0.002348</td>\n",
       "      <td>0.001038</td>\n",
       "      <td>-0.006136</td>\n",
       "      <td>OT</td>\n",
       "      <td>754</td>\n",
       "      <td>40.0</td>\n",
       "      <td>59.0</td>\n",
       "    </tr>\n",
       "    <tr>\n",
       "      <th>1</th>\n",
       "      <td>c0aa905a-d921-4ea5-ba33-c49c7f640be1</td>\n",
       "      <td>6</td>\n",
       "      <td>80.0</td>\n",
       "      <td>1</td>\n",
       "      <td>0.000133</td>\n",
       "      <td>0.000047</td>\n",
       "      <td>0.000053</td>\n",
       "      <td>0.942283</td>\n",
       "      <td>0.304758</td>\n",
       "      <td>0.230987</td>\n",
       "      <td>...</td>\n",
       "      <td>12939.0</td>\n",
       "      <td>2.264261</td>\n",
       "      <td>0.333333</td>\n",
       "      <td>-0.002343</td>\n",
       "      <td>0.001043</td>\n",
       "      <td>-0.006096</td>\n",
       "      <td>OT</td>\n",
       "      <td>754</td>\n",
       "      <td>80.0</td>\n",
       "      <td>59.0</td>\n",
       "    </tr>\n",
       "    <tr>\n",
       "      <th>2</th>\n",
       "      <td>ea13051c-1940-4c29-99d0-0703255b1286</td>\n",
       "      <td>6</td>\n",
       "      <td>80.0</td>\n",
       "      <td>2</td>\n",
       "      <td>0.000290</td>\n",
       "      <td>0.000096</td>\n",
       "      <td>0.000188</td>\n",
       "      <td>0.648918</td>\n",
       "      <td>0.000000</td>\n",
       "      <td>0.058750</td>\n",
       "      <td>...</td>\n",
       "      <td>9554.0</td>\n",
       "      <td>1.671903</td>\n",
       "      <td>1.000000</td>\n",
       "      <td>-0.002343</td>\n",
       "      <td>0.001043</td>\n",
       "      <td>-0.006096</td>\n",
       "      <td>OT</td>\n",
       "      <td>754</td>\n",
       "      <td>80.0</td>\n",
       "      <td>59.0</td>\n",
       "    </tr>\n",
       "    <tr>\n",
       "      <th>3</th>\n",
       "      <td>3138cc70-9913-47d7-ae50-b234466861e3</td>\n",
       "      <td>6</td>\n",
       "      <td>80.0</td>\n",
       "      <td>3</td>\n",
       "      <td>0.000377</td>\n",
       "      <td>0.000074</td>\n",
       "      <td>0.000116</td>\n",
       "      <td>1.527318</td>\n",
       "      <td>0.781338</td>\n",
       "      <td>0.488356</td>\n",
       "      <td>...</td>\n",
       "      <td>4276.0</td>\n",
       "      <td>0.748279</td>\n",
       "      <td>0.666667</td>\n",
       "      <td>-0.002343</td>\n",
       "      <td>0.001043</td>\n",
       "      <td>-0.006096</td>\n",
       "      <td>OT</td>\n",
       "      <td>754</td>\n",
       "      <td>80.0</td>\n",
       "      <td>59.0</td>\n",
       "    </tr>\n",
       "    <tr>\n",
       "      <th>4</th>\n",
       "      <td>e6cda529-00d5-4612-833b-4498f22204a3</td>\n",
       "      <td>6</td>\n",
       "      <td>80.0</td>\n",
       "      <td>4</td>\n",
       "      <td>0.000130</td>\n",
       "      <td>0.000049</td>\n",
       "      <td>0.000097</td>\n",
       "      <td>1.232967</td>\n",
       "      <td>0.000000</td>\n",
       "      <td>0.000000</td>\n",
       "      <td>...</td>\n",
       "      <td>884.0</td>\n",
       "      <td>0.154696</td>\n",
       "      <td>0.666667</td>\n",
       "      <td>-0.002343</td>\n",
       "      <td>0.001043</td>\n",
       "      <td>-0.006096</td>\n",
       "      <td>OT</td>\n",
       "      <td>754</td>\n",
       "      <td>80.0</td>\n",
       "      <td>59.0</td>\n",
       "    </tr>\n",
       "    <tr>\n",
       "      <th>...</th>\n",
       "      <td>...</td>\n",
       "      <td>...</td>\n",
       "      <td>...</td>\n",
       "      <td>...</td>\n",
       "      <td>...</td>\n",
       "      <td>...</td>\n",
       "      <td>...</td>\n",
       "      <td>...</td>\n",
       "      <td>...</td>\n",
       "      <td>...</td>\n",
       "      <td>...</td>\n",
       "      <td>...</td>\n",
       "      <td>...</td>\n",
       "      <td>...</td>\n",
       "      <td>...</td>\n",
       "      <td>...</td>\n",
       "      <td>...</td>\n",
       "      <td>...</td>\n",
       "      <td>...</td>\n",
       "      <td>...</td>\n",
       "      <td>...</td>\n",
       "    </tr>\n",
       "    <tr>\n",
       "      <th>540</th>\n",
       "      <td>0ac4737b-d2b7-4596-aa07-4f692b5d8aea</td>\n",
       "      <td>90</td>\n",
       "      <td>920.0</td>\n",
       "      <td>540</td>\n",
       "      <td>0.000152</td>\n",
       "      <td>0.000076</td>\n",
       "      <td>0.000087</td>\n",
       "      <td>0.947443</td>\n",
       "      <td>0.000000</td>\n",
       "      <td>0.339935</td>\n",
       "      <td>...</td>\n",
       "      <td>2044.0</td>\n",
       "      <td>0.357690</td>\n",
       "      <td>0.333333</td>\n",
       "      <td>-0.002322</td>\n",
       "      <td>0.001172</td>\n",
       "      <td>-0.005299</td>\n",
       "      <td>OLF</td>\n",
       "      <td>698</td>\n",
       "      <td>920.0</td>\n",
       "      <td>59.0</td>\n",
       "    </tr>\n",
       "    <tr>\n",
       "      <th>541</th>\n",
       "      <td>2b98f5bf-79c7-4d87-affe-e279becaca8c</td>\n",
       "      <td>105</td>\n",
       "      <td>1060.0</td>\n",
       "      <td>541</td>\n",
       "      <td>0.000123</td>\n",
       "      <td>0.000068</td>\n",
       "      <td>0.000075</td>\n",
       "      <td>0.919154</td>\n",
       "      <td>0.000000</td>\n",
       "      <td>0.000000</td>\n",
       "      <td>...</td>\n",
       "      <td>714.0</td>\n",
       "      <td>0.124946</td>\n",
       "      <td>0.333333</td>\n",
       "      <td>-0.002313</td>\n",
       "      <td>0.001210</td>\n",
       "      <td>-0.005171</td>\n",
       "      <td>CP</td>\n",
       "      <td>672</td>\n",
       "      <td>1060.0</td>\n",
       "      <td>11.0</td>\n",
       "    </tr>\n",
       "    <tr>\n",
       "      <th>542</th>\n",
       "      <td>40803746-121a-4faa-8dea-bde547ed4cd1</td>\n",
       "      <td>122</td>\n",
       "      <td>1240.0</td>\n",
       "      <td>542</td>\n",
       "      <td>0.000132</td>\n",
       "      <td>0.000073</td>\n",
       "      <td>0.000083</td>\n",
       "      <td>1.150352</td>\n",
       "      <td>0.000000</td>\n",
       "      <td>0.000000</td>\n",
       "      <td>...</td>\n",
       "      <td>148.0</td>\n",
       "      <td>0.025899</td>\n",
       "      <td>0.666667</td>\n",
       "      <td>-0.002310</td>\n",
       "      <td>0.001251</td>\n",
       "      <td>-0.005004</td>\n",
       "      <td>CP</td>\n",
       "      <td>672</td>\n",
       "      <td>1240.0</td>\n",
       "      <td>59.0</td>\n",
       "    </tr>\n",
       "    <tr>\n",
       "      <th>543</th>\n",
       "      <td>888a7004-0f39-4a62-a4f1-f97150b7c92e</td>\n",
       "      <td>142</td>\n",
       "      <td>1440.0</td>\n",
       "      <td>543</td>\n",
       "      <td>0.000121</td>\n",
       "      <td>0.000050</td>\n",
       "      <td>0.000067</td>\n",
       "      <td>1.239083</td>\n",
       "      <td>0.349246</td>\n",
       "      <td>0.258781</td>\n",
       "      <td>...</td>\n",
       "      <td>4187.0</td>\n",
       "      <td>0.732704</td>\n",
       "      <td>0.333333</td>\n",
       "      <td>-0.002289</td>\n",
       "      <td>0.001281</td>\n",
       "      <td>-0.004817</td>\n",
       "      <td>CP</td>\n",
       "      <td>672</td>\n",
       "      <td>1440.0</td>\n",
       "      <td>59.0</td>\n",
       "    </tr>\n",
       "    <tr>\n",
       "      <th>544</th>\n",
       "      <td>7770b1fe-7c95-42d2-b7b7-fc3eebd46c1c</td>\n",
       "      <td>168</td>\n",
       "      <td>1700.0</td>\n",
       "      <td>544</td>\n",
       "      <td>0.000086</td>\n",
       "      <td>0.000052</td>\n",
       "      <td>0.000057</td>\n",
       "      <td>1.018836</td>\n",
       "      <td>0.000000</td>\n",
       "      <td>0.000000</td>\n",
       "      <td>...</td>\n",
       "      <td>186.0</td>\n",
       "      <td>0.032549</td>\n",
       "      <td>0.333333</td>\n",
       "      <td>-0.002279</td>\n",
       "      <td>0.001318</td>\n",
       "      <td>-0.004571</td>\n",
       "      <td>CP</td>\n",
       "      <td>672</td>\n",
       "      <td>1700.0</td>\n",
       "      <td>43.0</td>\n",
       "    </tr>\n",
       "  </tbody>\n",
       "</table>\n",
       "<p>545 rows × 26 columns</p>\n",
       "</div>"
      ],
      "text/plain": [
       "                                    uuids  channels  depths  cluster_id  \\\n",
       "0    95d74905-786b-4357-a91d-5d394ae4e7a3         2    40.0           0   \n",
       "1    c0aa905a-d921-4ea5-ba33-c49c7f640be1         6    80.0           1   \n",
       "2    ea13051c-1940-4c29-99d0-0703255b1286         6    80.0           2   \n",
       "3    3138cc70-9913-47d7-ae50-b234466861e3         6    80.0           3   \n",
       "4    e6cda529-00d5-4612-833b-4498f22204a3         6    80.0           4   \n",
       "..                                    ...       ...     ...         ...   \n",
       "540  0ac4737b-d2b7-4596-aa07-4f692b5d8aea        90   920.0         540   \n",
       "541  2b98f5bf-79c7-4d87-affe-e279becaca8c       105  1060.0         541   \n",
       "542  40803746-121a-4faa-8dea-bde547ed4cd1       122  1240.0         542   \n",
       "543  888a7004-0f39-4a62-a4f1-f97150b7c92e       142  1440.0         543   \n",
       "544  7770b1fe-7c95-42d2-b7b7-fc3eebd46c1c       168  1700.0         544   \n",
       "\n",
       "      amp_max   amp_min  amp_median  amp_std_dB  contamination  \\\n",
       "0    0.000134  0.000040    0.000053    2.634385       0.211892   \n",
       "1    0.000133  0.000047    0.000053    0.942283       0.304758   \n",
       "2    0.000290  0.000096    0.000188    0.648918       0.000000   \n",
       "3    0.000377  0.000074    0.000116    1.527318       0.781338   \n",
       "4    0.000130  0.000049    0.000097    1.232967       0.000000   \n",
       "..        ...       ...         ...         ...            ...   \n",
       "540  0.000152  0.000076    0.000087    0.947443       0.000000   \n",
       "541  0.000123  0.000068    0.000075    0.919154       0.000000   \n",
       "542  0.000132  0.000073    0.000083    1.150352       0.000000   \n",
       "543  0.000121  0.000050    0.000067    1.239083       0.349246   \n",
       "544  0.000086  0.000052    0.000057    1.018836       0.000000   \n",
       "\n",
       "     contamination_alt  ...  spike_count  firing_rate     label         x  \\\n",
       "0             0.162537  ...       4389.0     0.768053  0.333333 -0.002348   \n",
       "1             0.230987  ...      12939.0     2.264261  0.333333 -0.002343   \n",
       "2             0.058750  ...       9554.0     1.671903  1.000000 -0.002343   \n",
       "3             0.488356  ...       4276.0     0.748279  0.666667 -0.002343   \n",
       "4             0.000000  ...        884.0     0.154696  0.666667 -0.002343   \n",
       "..                 ...  ...          ...          ...       ...       ...   \n",
       "540           0.339935  ...       2044.0     0.357690  0.333333 -0.002322   \n",
       "541           0.000000  ...        714.0     0.124946  0.333333 -0.002313   \n",
       "542           0.000000  ...        148.0     0.025899  0.666667 -0.002310   \n",
       "543           0.258781  ...       4187.0     0.732704  0.333333 -0.002289   \n",
       "544           0.000000  ...        186.0     0.032549  0.333333 -0.002279   \n",
       "\n",
       "            y         z  acronym  atlas_id  axial_um  lateral_um  \n",
       "0    0.001038 -0.006136       OT       754      40.0        59.0  \n",
       "1    0.001043 -0.006096       OT       754      80.0        59.0  \n",
       "2    0.001043 -0.006096       OT       754      80.0        59.0  \n",
       "3    0.001043 -0.006096       OT       754      80.0        59.0  \n",
       "4    0.001043 -0.006096       OT       754      80.0        59.0  \n",
       "..        ...       ...      ...       ...       ...         ...  \n",
       "540  0.001172 -0.005299      OLF       698     920.0        59.0  \n",
       "541  0.001210 -0.005171       CP       672    1060.0        11.0  \n",
       "542  0.001251 -0.005004       CP       672    1240.0        59.0  \n",
       "543  0.001281 -0.004817       CP       672    1440.0        59.0  \n",
       "544  0.001318 -0.004571       CP       672    1700.0        43.0  \n",
       "\n",
       "[545 rows x 26 columns]"
      ]
     },
     "execution_count": 8,
     "metadata": {},
     "output_type": "execute_result"
    }
   ],
   "source": [
    "clusters"
   ]
  },
  {
   "cell_type": "markdown",
   "id": "361e2e8d-84ea-4e02-af5b-b06fba79b826",
   "metadata": {},
   "source": [
    "##### Prepare Data for Any-Time Decoding (Single Session)"
   ]
  },
  {
   "cell_type": "code",
   "execution_count": 9,
   "id": "32be0732-e0b8-45f5-a87d-30a59f124b3c",
   "metadata": {},
   "outputs": [],
   "source": [
    "params = {\n",
    "    # setup for trial decoding:\n",
    "    'align_time': 'stimOn_times',\n",
    "    'time_window': (-.5, 1.5),\n",
    "    'binsize': 0.02,\n",
    "    'single_region': False # use all available regions\n",
    "}"
   ]
  },
  {
   "cell_type": "code",
   "execution_count": 10,
   "id": "e99b18a6-9c6e-4c45-a06d-95a2c8dc7583",
   "metadata": {},
   "outputs": [
    {
     "name": "stdout",
     "output_type": "stream",
     "text": [
      "Merged 2 probes for session eid: 6f09ba7e-e3ce-44b0-932b-c003fb44fb89\n"
     ]
    }
   ],
   "source": [
    "neural_dict, behave_dict, metadata = prepare_data(one, eid, bwm_df, params)"
   ]
  },
  {
   "cell_type": "code",
   "execution_count": 11,
   "id": "2de31f8c-6501-486f-bf93-eed1e3ee3c6d",
   "metadata": {},
   "outputs": [
    {
     "data": {
      "text/plain": [
       "dict_keys(['spike_times', 'spike_clusters', 'cluster_regions', 'cluster_qc', 'cluster_df'])"
      ]
     },
     "execution_count": 11,
     "metadata": {},
     "output_type": "execute_result"
    }
   ],
   "source": [
    "neural_dict.keys()"
   ]
  },
  {
   "cell_type": "markdown",
   "id": "1254b4cf-d67b-44f6-95bd-3b60719c3341",
   "metadata": {},
   "source": [
    "##### Prepare Data for Trial Decoding (Single Session)"
   ]
  },
  {
   "cell_type": "code",
   "execution_count": 12,
   "id": "1c3a35e2-b92d-42ea-bebd-d488a58f4c46",
   "metadata": {},
   "outputs": [
    {
     "name": "stdout",
     "output_type": "stream",
     "text": [
      "Use spikes from brain regions:  ['CA1' 'CP' 'DG' 'LP' 'MOp' 'OT' 'PIR' 'PO' 'PoT' 'SI' 'VISa' 'root']\n"
     ]
    }
   ],
   "source": [
    "regions, beryl_reg = list_brain_regions(neural_dict, **params)"
   ]
  },
  {
   "cell_type": "code",
   "execution_count": 13,
   "id": "d4bdcc73-a8a1-44dc-a9c8-91ed93d3bd93",
   "metadata": {},
   "outputs": [],
   "source": [
    "region_cluster_ids = select_brain_regions(neural_dict, beryl_reg, regions, **params)"
   ]
  },
  {
   "cell_type": "code",
   "execution_count": 14,
   "id": "9ba0cdc5-b11f-4822-acbb-aeac45713605",
   "metadata": {},
   "outputs": [
    {
     "name": "stderr",
     "output_type": "stream",
     "text": [
      "100%|██████████| 551/551 [00:17<00:00, 31.75it/s]\n"
     ]
    }
   ],
   "source": [
    "# 'binned_spikes' is very sparse - how to handle the tokenization more efficiently?\n",
    "binned_spikes, clusters_used_in_bins = bin_spiking_data(region_cluster_ids, neural_dict, trials, **params)"
   ]
  },
  {
   "cell_type": "code",
   "execution_count": 15,
   "id": "955cab53-b597-4c44-928b-79e391726939",
   "metadata": {},
   "outputs": [
    {
     "data": {
      "text/plain": [
       "<matplotlib.colorbar.Colorbar at 0x7f5f5265b6d0>"
      ]
     },
     "execution_count": 15,
     "metadata": {},
     "output_type": "execute_result"
    },
    {
     "data": {
      "image/png": "[encoded data removed]",
      "text/plain": [
       "<Figure size 400x300 with 2 Axes>"
      ]
     },
     "metadata": {},
     "output_type": "display_data"
    }
   ],
   "source": [
    "trial_idx = 0\n",
    "plt.figure(figsize=(4,3))\n",
    "plt.imshow(binned_spikes[trial_idx].T, aspect=\"auto\", cmap=\"binary\")\n",
    "plt.title(f\"spike count in trial {trial_idx}\")\n",
    "plt.xlabel(\"time bin\")\n",
    "plt.ylabel(\"unit\")\n",
    "plt.colorbar()"
   ]
  },
  {
   "cell_type": "code",
   "execution_count": 16,
   "id": "ff3bcab3",
   "metadata": {},
   "outputs": [
    {
     "name": "stdout",
     "output_type": "stream",
     "text": [
      "sparsity: 0.05\n"
     ]
    }
   ],
   "source": [
    "total_elems = binned_spikes[trial_idx].shape[0] * binned_spikes[trial_idx].shape[1]\n",
    "nonzero_elems = np.count_nonzero(binned_spikes[trial_idx])\n",
    "print(f\"sparsity: {nonzero_elems / total_elems:.2f}\")"
   ]
  },
  {
   "cell_type": "code",
   "execution_count": 17,
   "id": "d370a9f5-2794-4a32-b021-3bfd9a8db6bd",
   "metadata": {},
   "outputs": [
    {
     "data": {
      "text/plain": [
       "dict_keys(['choice', 'block', 'reward', 'contrast', 'wheel-position', 'wheel-velocity', 'wheel-speed', 'left-whisker-motion-energy', 'right-whisker-motion-energy', 'left-pupil-diameter', 'right-pupil-diameter', 'left-camera-left-paw-speed', 'left-camera-right-paw-speed', 'right-camera-left-paw-speed', 'right-camera-right-paw-speed', 'left-nose-speed', 'right-nose-speed'])"
      ]
     },
     "execution_count": 17,
     "metadata": {},
     "output_type": "execute_result"
    }
   ],
   "source": [
    "binned_behaviors = load_trial_behaviors(one, eid, trials, allow_nans=True, **params)\n",
    "binned_behaviors.keys()"
   ]
  },
  {
   "cell_type": "code",
   "execution_count": 18,
   "id": "201a5930-59a4-46fd-ba01-1fbb0201c4f5",
   "metadata": {},
   "outputs": [
    {
     "data": {
      "text/plain": [
       "Text(0, 0.5, 'wheel-speed')"
      ]
     },
     "execution_count": 18,
     "metadata": {},
     "output_type": "execute_result"
    },
    {
     "data": {
      "image/png": "[encoded data removed]",
      "text/plain": [
       "<Figure size 400x300 with 1 Axes>"
      ]
     },
     "metadata": {},
     "output_type": "display_data"
    }
   ],
   "source": [
    "behave = \"wheel-speed\"\n",
    "plt.figure(figsize=(4,3))\n",
    "plt.plot(binned_behaviors[behave][trial_idx])\n",
    "plt.title(f\"{behave} in trial {trial_idx}\")\n",
    "plt.xlabel(\"time bin\")\n",
    "plt.ylabel(behave)"
   ]
  },
  {
   "cell_type": "markdown",
   "id": "6315c39f",
   "metadata": {},
   "source": [
    "## Save Dataset"
   ]
  },
  {
   "cell_type": "code",
   "execution_count": 19,
   "id": "2b42d98f",
   "metadata": {},
   "outputs": [
    {
     "name": "stderr",
     "output_type": "stream",
     "text": [
      "Creating parquet from Arrow format: 100%|██████████| 1/1 [00:00<00:00,  2.68ba/s]\n",
      "Uploading the dataset shards: 100%|██████████| 1/1 [00:00<00:00,  2.06it/s]\n"
     ]
    }
   ],
   "source": [
    "dataset = create_dataset(binned_spikes, bwm_df, idx, eid, probe, region_cluster_ids, beryl_reg, params[\"binsize\"], binned_behaviors=None, metadata=None)\n",
    "upload_dataset(dataset)"
   ]
  },
  {
   "cell_type": "markdown",
   "id": "bb698cd6",
   "metadata": {},
   "source": [
    "## Download and Test Dataset"
   ]
  },
  {
   "cell_type": "code",
   "execution_count": 20,
   "id": "9c10b5b3",
   "metadata": {},
   "outputs": [
    {
     "name": "stderr",
     "output_type": "stream",
     "text": [
      "Downloading readme: 100%|██████████| 3.10k/3.10k [00:00<00:00, 7.96MB/s]\n",
      "Downloading data: 100%|██████████| 5.11M/5.11M [00:00<00:00, 6.21MB/s]\n",
      "Generating train split: 100%|██████████| 551/551 [00:00<00:00, 1817.93 examples/s]\n"
     ]
    },
    {
     "data": {
      "text/plain": [
       "DatasetDict({\n",
       "    train: Dataset({\n",
       "        features: ['spikes_sparse_data', 'spikes_sparse_indices', 'spikes_sparse_indptr', 'spikes_sparse_shape', 'region_cluster_ids', 'brain_regions', 'bin_size', 'eid', 'probe_name', 'session_number', 'date', 'subject', 'lab'],\n",
       "        num_rows: 551\n",
       "    })\n",
       "})"
      ]
     },
     "execution_count": 20,
     "metadata": {},
     "output_type": "execute_result"
    }
   ],
   "source": [
    "dataset = download_dataset()\n",
    "dataset"
   ]
  },
  {
   "cell_type": "code",
   "execution_count": 23,
   "id": "b017472f",
   "metadata": {},
   "outputs": [
    {
     "name": "stdout",
     "output_type": "stream",
     "text": [
      "Shape of downloaded binned spikes: (551, 100, 1116). Shape of original binned spikes: (551, 100, 1116)\n"
     ]
    }
   ],
   "source": [
    "spikes_sparse_data_list = dataset['train']['spikes_sparse_data']\n",
    "spikes_sparse_indices_list = dataset['train']['spikes_sparse_indices']\n",
    "spikes_sparse_indptr_list = dataset['train']['spikes_sparse_indptr']\n",
    "spikes_sparse_shape_list = dataset['train']['spikes_sparse_shape']\n",
    "\n",
    "downloaded_binned_spikes = get_binned_spikes_from_sparse(spikes_sparse_data_list, spikes_sparse_indices_list, spikes_sparse_indptr_list, spikes_sparse_shape_list)\n",
    "\n",
    "print(f\"Shape of downloaded binned spikes: {downloaded_binned_spikes.shape}. Shape of original binned spikes: {binned_spikes.shape}\")"
   ]
  }
 ],
 "metadata": {
  "kernelspec": {
   "display_name": "Python 3 (ipykernel)",
   "language": "python",
   "name": "python3"
  },
  "language_info": {
   "codemirror_mode": {
    "name": "ipython",
    "version": 3
   },
   "file_extension": ".py",
   "mimetype": "text/x-python",
   "name": "python",
   "nbconvert_exporter": "python",
   "pygments_lexer": "ipython3",
   "version": "3.11.7"
  }
 },
 "nbformat": 4,
 "nbformat_minor": 5
}
