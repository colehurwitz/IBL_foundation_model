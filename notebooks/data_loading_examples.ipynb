{
 "cells": [
  {
   "cell_type": "code",
   "execution_count": 27,
   "id": "e7c856ae-212a-4879-878e-ec8820cf43c5",
   "metadata": {},
   "outputs": [],
   "source": [
    "import sys\n",
    "from pathlib import Path\n",
    "path_root = '../'\n",
    "sys.path.append(str(path_root))\n",
    "\n",
    "import numpy as np\n",
    "import pandas as pd\n",
    "from matplotlib import pyplot as plt\n",
    "\n",
    "from one.api import ONE\n",
    "from brainbox.io.one import SessionLoader, SpikeSortingLoader\n",
    "from iblatlas.atlas import AllenAtlas\n",
    "from iblatlas.regions import BrainRegions\n",
    "from utils.ibl_data_loading import (\n",
    "    load_spiking_data, load_trials_and_mask, merge_probes,\n",
    "    load_discrete_behaviors, load_continuous_behaviors\n",
    ")\n",
    "from utils.ibl_data_processing import prepare_data, select_brain_regions, bin_spiking_data"
   ]
  },
  {
   "cell_type": "markdown",
   "id": "eb84d05b-c842-44e7-8904-336d9c7b9ffd",
   "metadata": {},
   "source": [
    "##### Data Loading Example (Single Session)"
   ]
  },
  {
   "cell_type": "code",
   "execution_count": 2,
   "id": "3440bc11-74b5-4595-9aea-289d15e4e157",
   "metadata": {},
   "outputs": [
    {
     "name": "stderr",
     "output_type": "stream",
     "text": [
      "/home/yizi/anaconda3/envs/ibl_foundation_model/lib/python3.11/site-packages/one/params.py:184: UserWarning: Warning: the directory provided is already a cache for another URL.\n",
      "  warnings.warn('Warning: the directory provided is already a cache for another URL.')\n"
     ]
    }
   ],
   "source": [
    "# Instantiate ONE\n",
    "ONE.setup(base_url='https://openalyx.internationalbrainlab.org', \n",
    "          silent=True, \n",
    "          cache_dir='/mnt/3TB/yizi/Downloads/ONE/openalyx.internationalbrainlab.org'\n",
    ")\n",
    "one = ONE(password='international')\n",
    "ba = AllenAtlas()"
   ]
  },
  {
   "cell_type": "code",
   "execution_count": 3,
   "id": "4404c5c0-96bd-4f41-9999-088434b62813",
   "metadata": {},
   "outputs": [],
   "source": [
    "# List all publicly available sessions\n",
    "# sessions = one.search()\n",
    "\n",
    "# List all sessions from the brain-wide-map project\n",
    "# Note: Not all sessions will have behaviors recorded so we can use sessions \n",
    "#       w/ behaviors for supervised tasks and those w/o for SSL\n",
    "# sessions = one.search(project='brainwide')\n",
    "\n",
    "# List brainwide map sessions that pass the most important quality controls\n",
    "# Note: Let's first work with these good quality sessions, and \n",
    "#       transition to using more sessions later on\n",
    "freeze_file = '../data/2023_12_bwm_release.csv'\n",
    "bwm_df = pd.read_csv(freeze_file, index_col=0)"
   ]
  },
  {
   "cell_type": "code",
   "execution_count": 4,
   "id": "9941a62a-93e3-474b-bddc-0162f663694c",
   "metadata": {},
   "outputs": [],
   "source": [
    "# Load an example session\n",
    "idx = 10\n",
    "pid = bwm_df.pid[idx]\n",
    "eid, probe = one.pid2eid(pid)"
   ]
  },
  {
   "cell_type": "code",
   "execution_count": 5,
   "id": "47f6cfe6-1f7b-4963-b00c-04ef53b8bd4e",
   "metadata": {},
   "outputs": [],
   "source": [
    "# Load spike sorting data\n",
    "spikes, clusters = load_spiking_data(one, pid)"
   ]
  },
  {
   "cell_type": "code",
   "execution_count": 6,
   "id": "8f844fc0-abe5-43ae-92f5-cf9b419fce23",
   "metadata": {},
   "outputs": [],
   "source": [
    "# We may not want to train the model with data within trials, but we may need it for eval purposes.\n",
    "# Load trials data and mask. Trials are excluded in the mask if reaction time is too long or too short,\n",
    "# or if critical trial events are missing.\n",
    "trials, mask = load_trials_and_mask(one, eid, min_rt=0.08, max_rt=2., nan_exclude='default')"
   ]
  },
  {
   "cell_type": "code",
   "execution_count": 7,
   "id": "a6a34d7a-89a3-4a9a-aaeb-076f1ec4518a",
   "metadata": {},
   "outputs": [
    {
     "name": "stdout",
     "output_type": "stream",
     "text": [
      "dict_keys(['choice', 'block', 'reward', 'contrast'])\n"
     ]
    }
   ],
   "source": [
    "# Load discrete behaviors for trial decoding\n",
    "discrete_behaviors = load_discrete_behaviors(trials)\n",
    "print(discrete_behaviors.keys())"
   ]
  },
  {
   "cell_type": "code",
   "execution_count": 8,
   "id": "1fb1752b-7941-4e39-a23a-c1d3768c6a88",
   "metadata": {},
   "outputs": [
    {
     "name": "stdout",
     "output_type": "stream",
     "text": [
      "dict_keys(['wheel_pos', 'wheel_vel', 'left_whisker', 'right_whisker', 'body_whisker', 'left_pupil', 'right_pupil', 'left_paw_l', 'left_paw_r', 'right_paw_l', 'right_paw_r', 'left_nose', 'right_nose'])\n"
     ]
    }
   ],
   "source": [
    "# Load continuous behaviors for any-time decoding\n",
    "continuous_behaviors = load_continuous_behaviors(one, eid)\n",
    "print(continuous_behaviors.keys())"
   ]
  },
  {
   "cell_type": "code",
   "execution_count": null,
   "id": "0dd26c28-0ba4-4244-a39e-607969486bb6",
   "metadata": {},
   "outputs": [],
   "source": []
  },
  {
   "cell_type": "markdown",
   "id": "361e2e8d-84ea-4e02-af5b-b06fba79b826",
   "metadata": {},
   "source": [
    "##### Prepare Data for Any-Time Decoding (Single Session)"
   ]
  },
  {
   "cell_type": "code",
   "execution_count": 44,
   "id": "32be0732-e0b8-45f5-a87d-30a59f124b3c",
   "metadata": {},
   "outputs": [],
   "source": [
    "params = {\n",
    "    'merged_probes': True,\n",
    "    # setup for trial decoding:\n",
    "    'align_time': 'stimOn_times',\n",
    "    'time_window': (-.2, .8),\n",
    "    'binsize': 0.02,\n",
    "    'single_region': False # use all available regions\n",
    "}"
   ]
  },
  {
   "cell_type": "code",
   "execution_count": 10,
   "id": "e99b18a6-9c6e-4c45-a06d-95a2c8dc7583",
   "metadata": {},
   "outputs": [
    {
     "name": "stdout",
     "output_type": "stream",
     "text": [
      "Running merged probes for session eid: 5ec72172-3901-4771-8777-6e9490ca51fc\n"
     ]
    }
   ],
   "source": [
    "neural_dict, behave_dict, metadata = prepare_data(one, idx, bwm_df, params)"
   ]
  },
  {
   "cell_type": "code",
   "execution_count": 11,
   "id": "2de31f8c-6501-486f-bf93-eed1e3ee3c6d",
   "metadata": {},
   "outputs": [
    {
     "data": {
      "text/plain": [
       "dict_keys(['spike_times', 'spike_clusters', 'cluster_regions', 'cluster_qc', 'cluster_df'])"
      ]
     },
     "execution_count": 11,
     "metadata": {},
     "output_type": "execute_result"
    }
   ],
   "source": [
    "neural_dict.keys()"
   ]
  },
  {
   "cell_type": "code",
   "execution_count": null,
   "id": "e4da22db-30aa-40fc-b13b-3d4dcafaca39",
   "metadata": {},
   "outputs": [],
   "source": []
  },
  {
   "cell_type": "markdown",
   "id": "1254b4cf-d67b-44f6-95bd-3b60719c3341",
   "metadata": {},
   "source": [
    "##### Prepare Data for Trial Decoding (In Progress)"
   ]
  },
  {
   "cell_type": "code",
   "execution_count": 66,
   "id": "1c3a35e2-b92d-42ea-bebd-d488a58f4c46",
   "metadata": {},
   "outputs": [
    {
     "name": "stdout",
     "output_type": "stream",
     "text": [
      "Use spikes from brain regions:  ['ACAd' 'ACB' 'AON' 'DP' 'ILA' 'LSr' 'LSv' 'MOs' 'OT' 'PL' 'SI' 'TTd'\n",
      " 'root']\n"
     ]
    }
   ],
   "source": [
    "brainreg = BrainRegions()\n",
    "beryl_reg = brainreg.acronym2acronym(neural_dict['cluster_regions'], mapping='Beryl')\n",
    "regions = ([[k] for k in np.unique(beryl_reg)] if params['single_region'] else [np.unique(beryl_reg)])\n",
    "print(f\"Use spikes from brain regions: \", regions[0])"
   ]
  },
  {
   "cell_type": "code",
   "execution_count": 67,
   "id": "d4bdcc73-a8a1-44dc-a9c8-91ed93d3bd93",
   "metadata": {},
   "outputs": [],
   "source": [
    "region_cluster_ids = select_brain_regions(neural_dict, beryl_reg, regions[0], **params)"
   ]
  },
  {
   "cell_type": "code",
   "execution_count": 68,
   "id": "9ba0cdc5-b11f-4822-acbb-aeac45713605",
   "metadata": {},
   "outputs": [],
   "source": [
    "# 'binned_spikes' is very sparse - how to handle the tokenization more efficiently?\n",
    "binned_spikes, clusters_used_in_bins = bin_spiking_data(region_cluster_ids, neural_dict, trials, **params)"
   ]
  },
  {
   "cell_type": "code",
   "execution_count": 71,
   "id": "955cab53-b597-4c44-928b-79e391726939",
   "metadata": {},
   "outputs": [
    {
     "data": {
      "image/png": "[encoded data removed]",
      "text/plain": [
       "<Figure size 300x300 with 1 Axes>"
      ]
     },
     "metadata": {},
     "output_type": "display_data"
    }
   ],
   "source": [
    "plt.figure(figsize=(3,3))\n",
    "plt.imshow(np.mean(binned_spikes, 0).T, aspect=\"auto\")\n",
    "plt.title(f\"trial-averaged spike count\")\n",
    "plt.xlabel(\"time bin\")\n",
    "plt.ylabel(\"unit\");"
   ]
  },
  {
   "cell_type": "code",
   "execution_count": null,
   "id": "067d1bc5-230a-4049-b1db-8f587e135466",
   "metadata": {},
   "outputs": [],
   "source": [
    "# TO DO: Bin behaviors\n"
   ]
  },
  {
   "cell_type": "code",
   "execution_count": null,
   "id": "c785fc57-eace-4bae-b202-d760ea8651c5",
   "metadata": {},
   "outputs": [],
   "source": []
  },
  {
   "cell_type": "markdown",
   "id": "ee4baefd-ffc2-455b-9814-121aff2b7cec",
   "metadata": {},
   "source": [
    "##### Download and Cache Data  (Multiple Sessions)"
   ]
  },
  {
   "cell_type": "code",
   "execution_count": null,
   "id": "a5129aa6-8a16-44b6-a321-0a4c1c5bb2a4",
   "metadata": {},
   "outputs": [],
   "source": [
    "\n",
    "\n"
   ]
  },
  {
   "cell_type": "code",
   "execution_count": null,
   "id": "5054d75c-f609-486e-bc16-ad4aabd01140",
   "metadata": {},
   "outputs": [],
   "source": []
  }
 ],
 "metadata": {
  "kernelspec": {
   "display_name": "Python 3 (ipykernel)",
   "language": "python",
   "name": "python3"
  },
  "language_info": {
   "codemirror_mode": {
    "name": "ipython",
    "version": 3
   },
   "file_extension": ".py",
   "mimetype": "text/x-python",
   "name": "python",
   "nbconvert_exporter": "python",
   "pygments_lexer": "ipython3",
   "version": "3.11.7"
  }
 },
 "nbformat": 4,
 "nbformat_minor": 5
}
