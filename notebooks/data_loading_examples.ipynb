{
 "cells": [
  {
   "cell_type": "code",
   "execution_count": 1,
   "id": "e7c856ae-212a-4879-878e-ec8820cf43c5",
   "metadata": {},
   "outputs": [
    {
     "name": "stderr",
     "output_type": "stream",
     "text": [
      "/home/yizi/anaconda3/envs/ibl_foundation_model/lib/python3.11/site-packages/neurodsp/__init__.py:5: FutureWarning: neurodsp has been renamed to ibldsp and the old name will be deprecated on 01-Sep-2024.\n",
      "  warn(\n"
     ]
    }
   ],
   "source": [
    "import sys\n",
    "from pathlib import Path\n",
    "path_root = '../'\n",
    "sys.path.append(str(path_root))\n",
    "\n",
    "import numpy as np\n",
    "import pandas as pd\n",
    "from matplotlib import pyplot as plt\n",
    "\n",
    "from one.api import ONE\n",
    "from brainbox.io.one import SessionLoader, SpikeSortingLoader\n",
    "from iblatlas.atlas import AllenAtlas\n",
    "from utils.ibl_data_utils import (\n",
    "    load_spiking_data,\n",
    "    load_anytime_behaviors,\n",
    "    prepare_data, \n",
    "    select_brain_regions, list_brain_regions, \n",
    "    create_intervals, bin_spiking_data, bin_behaviors\n",
    ")\n",
    "from utils.dataset import create_dataset, upload_dataset, download_dataset, get_binned_spikes_from_sparse"
   ]
  },
  {
   "cell_type": "markdown",
   "id": "eb84d05b-c842-44e7-8904-336d9c7b9ffd",
   "metadata": {},
   "source": [
    "##### Data Loading Example (Single Session)"
   ]
  },
  {
   "cell_type": "code",
   "execution_count": 2,
   "id": "3440bc11-74b5-4595-9aea-289d15e4e157",
   "metadata": {},
   "outputs": [],
   "source": [
    "# Instantiate ONE\n",
    "one = ONE(\n",
    "    base_url='https://openalyx.internationalbrainlab.org', \n",
    "    password='international', silent=True\n",
    ")\n",
    "ba = AllenAtlas()"
   ]
  },
  {
   "cell_type": "code",
   "execution_count": 3,
   "id": "4404c5c0-96bd-4f41-9999-088434b62813",
   "metadata": {},
   "outputs": [],
   "source": [
    "# List all publicly available sessions\n",
    "# sessions = one.search()\n",
    "\n",
    "# List all sessions from the brain-wide-map project\n",
    "# Note: Not all sessions will have behaviors recorded so we can use sessions \n",
    "#       w/ behaviors for supervised tasks and those w/o for SSL\n",
    "# sessions = one.search(project='brainwide')\n",
    "\n",
    "# List brainwide map sessions that pass the most important quality controls\n",
    "# Note: Let's first work with these good quality sessions, and \n",
    "#       transition to using more sessions later on\n",
    "freeze_file = '../data/2023_12_bwm_release.csv'\n",
    "bwm_df = pd.read_csv(freeze_file, index_col=0)"
   ]
  },
  {
   "cell_type": "code",
   "execution_count": 4,
   "id": "9941a62a-93e3-474b-bddc-0162f663694c",
   "metadata": {},
   "outputs": [],
   "source": [
    "# Load an example session\n",
    "idx = 10\n",
    "pid = bwm_df.pid[idx]\n",
    "eid, probe = one.pid2eid(pid)"
   ]
  },
  {
   "cell_type": "code",
   "execution_count": 5,
   "id": "e70e5a33-6931-4017-b0da-3775b206f73a",
   "metadata": {},
   "outputs": [],
   "source": [
    "idx = (bwm_df.eid.unique() == eid).argmax()\n",
    "eid = bwm_df.eid.unique()[idx]\n",
    "tmp_df = bwm_df.set_index(['eid', 'subject']).xs(eid, level='eid')\n",
    "subject = tmp_df.index[0]"
   ]
  },
  {
   "cell_type": "code",
   "execution_count": 6,
   "id": "47f6cfe6-1f7b-4963-b00c-04ef53b8bd4e",
   "metadata": {},
   "outputs": [],
   "source": [
    "# Load spike sorting data\n",
    "spikes, clusters, sampling_freq = load_spiking_data(one, pid)"
   ]
  },
  {
   "cell_type": "code",
   "execution_count": 8,
   "id": "1fb1752b-7941-4e39-a23a-c1d3768c6a88",
   "metadata": {},
   "outputs": [
    {
     "name": "stderr",
     "output_type": "stream",
     "text": [
      "100%|█████████████████████████████████████████████████████████████████████████████████████████████████████████████████████████████████████████████████████████████████████████| 7/7 [00:01<00:00,  4.51it/s]"
     ]
    },
    {
     "name": "stdout",
     "output_type": "stream",
     "text": [
      "dict_keys(['left-whisker-motion-energy', 'right-whisker-motion-energy', 'left-pupil-diameter', 'wheel-velocity', 'wheel-speed', 'wheel-position', 'right-pupil-diameter'])\n"
     ]
    },
    {
     "name": "stderr",
     "output_type": "stream",
     "text": [
      "\n"
     ]
    }
   ],
   "source": [
    "# Load behaviors for any-time decoding\n",
    "anytime_behaviors = load_anytime_behaviors(one, eid, n_workers=4)\n",
    "print(anytime_behaviors.keys())"
   ]
  },
  {
   "cell_type": "markdown",
   "id": "361e2e8d-84ea-4e02-af5b-b06fba79b826",
   "metadata": {},
   "source": [
    "##### Prepare Data for Any-Time Decoding (Single Session)"
   ]
  },
  {
   "cell_type": "code",
   "execution_count": 9,
   "id": "32be0732-e0b8-45f5-a87d-30a59f124b3c",
   "metadata": {},
   "outputs": [],
   "source": [
    "params = {\n",
    "    # setup for using the full recording (need it for pretraining)\n",
    "    'interval_len': 2,\n",
    "    'binsize': 0.02,\n",
    "    # use all available regions\n",
    "    'single_region': False, \n",
    "    # setup for using recording segments within trials (only need it for fine-tuning)\n",
    "    'align_time': 'stimOn_times',\n",
    "    'time_window': (-.5, 1.5),\n",
    "}"
   ]
  },
  {
   "cell_type": "code",
   "execution_count": 11,
   "id": "e99b18a6-9c6e-4c45-a06d-95a2c8dc7583",
   "metadata": {},
   "outputs": [
    {
     "name": "stdout",
     "output_type": "stream",
     "text": [
      "Merge 2 probes for session eid: 8c33abef-3d3e-4d42-9f27-445e9def08f9\n"
     ]
    },
    {
     "name": "stderr",
     "output_type": "stream",
     "text": [
      "100%|█████████████████████████████████████████████████████████████████████████████████████████████████████████████████████████████████████████████████████████████████████████| 7/7 [00:01<00:00,  5.65it/s]\n"
     ]
    }
   ],
   "source": [
    "neural_dict, behave_dict, meta_data, trials_data = prepare_data(one, eid, bwm_df, params, n_workers=8)"
   ]
  },
  {
   "cell_type": "markdown",
   "id": "1254b4cf-d67b-44f6-95bd-3b60719c3341",
   "metadata": {},
   "source": [
    "##### Prepare Data for Trial Decoding (Single Session)"
   ]
  },
  {
   "cell_type": "code",
   "execution_count": 12,
   "id": "1c3a35e2-b92d-42ea-bebd-d488a58f4c46",
   "metadata": {},
   "outputs": [
    {
     "name": "stdout",
     "output_type": "stream",
     "text": [
      "Use spikes from brain regions:  ['BST' 'CP' 'MEA' 'MOp' 'RT' 'VPL' 'root']\n"
     ]
    }
   ],
   "source": [
    "regions, beryl_reg = list_brain_regions(neural_dict, **params)"
   ]
  },
  {
   "cell_type": "code",
   "execution_count": 13,
   "id": "d4bdcc73-a8a1-44dc-a9c8-91ed93d3bd93",
   "metadata": {},
   "outputs": [],
   "source": [
    "region_cluster_ids = select_brain_regions(neural_dict, beryl_reg, regions, **params)"
   ]
  },
  {
   "cell_type": "code",
   "execution_count": 14,
   "id": "0ef97a11-1184-4b81-a1a3-696191f704cf",
   "metadata": {},
   "outputs": [],
   "source": [
    "intervals = create_intervals(\n",
    "    start_time=0, end_time=neural_dict['spike_times'].max(), interval_len=params['interval_len']\n",
    ")"
   ]
  },
  {
   "cell_type": "code",
   "execution_count": 16,
   "id": "9ba0cdc5-b11f-4822-acbb-aeac45713605",
   "metadata": {},
   "outputs": [
    {
     "name": "stderr",
     "output_type": "stream",
     "text": [
      "100%|███████████████████████████████████████████████████████████████████████████████████████████████████████████████████████████████████████████████████████████████████| 3007/3007 [00:46<00:00, 64.69it/s]\n"
     ]
    }
   ],
   "source": [
    "binned_spikes, clusters_used_in_bins = bin_spiking_data(\n",
    "    region_cluster_ids, neural_dict, intervals=intervals, n_workers=16, **params\n",
    ")"
   ]
  },
  {
   "cell_type": "code",
   "execution_count": 17,
   "id": "955cab53-b597-4c44-928b-79e391726939",
   "metadata": {},
   "outputs": [
    {
     "data": {
      "image/png": "[encoded data removed]",
      "text/plain": [
       "<Figure size 400x300 with 2 Axes>"
      ]
     },
     "metadata": {},
     "output_type": "display_data"
    }
   ],
   "source": [
    "interval_idx = 500\n",
    "plt.figure(figsize=(4,3))\n",
    "plt.imshow(binned_spikes[interval_idx].T, aspect=\"auto\", cmap=\"binary\")\n",
    "plt.title(f\"spike count in interval {interval_idx}\")\n",
    "plt.xlabel(\"time bin\")\n",
    "plt.ylabel(\"unit\")\n",
    "plt.colorbar();"
   ]
  },
  {
   "cell_type": "code",
   "execution_count": 18,
   "id": "ff3bcab3",
   "metadata": {},
   "outputs": [
    {
     "name": "stdout",
     "output_type": "stream",
     "text": [
      "sparsity: 0.05\n"
     ]
    }
   ],
   "source": [
    "total_elems = binned_spikes[interval_idx].shape[0] * binned_spikes[interval_idx].shape[1]\n",
    "nonzero_elems = np.count_nonzero(binned_spikes[interval_idx])\n",
    "print(f\"sparsity: {nonzero_elems / total_elems:.2f}\")"
   ]
  },
  {
   "cell_type": "code",
   "execution_count": 19,
   "id": "d370a9f5-2794-4a32-b021-3bfd9a8db6bd",
   "metadata": {},
   "outputs": [
    {
     "name": "stderr",
     "output_type": "stream",
     "text": [
      "100%|█████████████████████████████████████████████████████████████████████████████████████████████████████████████████████████████████████████████████████████████████| 3007/3007 [00:00<00:00, 7132.63it/s]\n",
      "100%|█████████████████████████████████████████████████████████████████████████████████████████████████████████████████████████████████████████████████████████████████| 3007/3007 [00:00<00:00, 7054.18it/s]\n",
      "100%|█████████████████████████████████████████████████████████████████████████████████████████████████████████████████████████████████████████████████████████████████| 3007/3007 [00:00<00:00, 7034.12it/s]\n",
      "100%|█████████████████████████████████████████████████████████████████████████████████████████████████████████████████████████████████████████████████████████████████| 3007/3007 [00:00<00:00, 8119.82it/s]\n",
      "100%|█████████████████████████████████████████████████████████████████████████████████████████████████████████████████████████████████████████████████████████████████| 3007/3007 [00:00<00:00, 7590.94it/s]\n",
      "100%|█████████████████████████████████████████████████████████████████████████████████████████████████████████████████████████████████████████████████████████████████| 3007/3007 [00:00<00:00, 4884.95it/s]\n",
      "100%|█████████████████████████████████████████████████████████████████████████████████████████████████████████████████████████████████████████████████████████████████| 3007/3007 [00:00<00:00, 4316.79it/s]\n"
     ]
    },
    {
     "data": {
      "text/plain": [
       "dict_keys(['wheel-position', 'wheel-velocity', 'wheel-speed', 'left-whisker-motion-energy', 'right-whisker-motion-energy', 'left-pupil-diameter', 'right-pupil-diameter'])"
      ]
     },
     "execution_count": 19,
     "metadata": {},
     "output_type": "execute_result"
    }
   ],
   "source": [
    "binned_behaviors, behavior_masks = bin_behaviors(\n",
    "    one, eid, intervals=intervals, allow_nans=True, n_workers=10, **params\n",
    ")\n",
    "binned_behaviors.keys()"
   ]
  },
  {
   "cell_type": "code",
   "execution_count": 20,
   "id": "6b953d84-bbcb-489f-b024-b97b739375d6",
   "metadata": {},
   "outputs": [
    {
     "name": "stdout",
     "output_type": "stream",
     "text": [
      "% of intervals with behavior missing:\n",
      "wheel-position: 0.00%\n",
      "wheel-velocity: 0.00%\n",
      "wheel-speed: 0.00%\n",
      "left-whisker-motion-energy: 0.96%\n",
      "right-whisker-motion-energy: 0.96%\n",
      "left-pupil-diameter: 0.96%\n",
      "right-pupil-diameter: 0.96%\n"
     ]
    }
   ],
   "source": [
    "print('% of intervals with behavior missing:')\n",
    "for beh in behavior_masks.keys():\n",
    "    perc = behavior_masks[beh].sum() / len(behavior_masks[beh])\n",
    "    print(f'{beh}: {100*(1-perc):.2f}%')"
   ]
  },
  {
   "cell_type": "code",
   "execution_count": 21,
   "id": "201a5930-59a4-46fd-ba01-1fbb0201c4f5",
   "metadata": {},
   "outputs": [
    {
     "data": {
      "image/png": "[encoded data removed]",
      "text/plain": [
       "<Figure size 400x300 with 1 Axes>"
      ]
     },
     "metadata": {},
     "output_type": "display_data"
    }
   ],
   "source": [
    "behave = \"wheel-speed\"\n",
    "plt.figure(figsize=(4,3))\n",
    "plt.plot(binned_behaviors[behave][interval_idx])\n",
    "plt.title(f\"{behave} in interval {interval_idx}\")\n",
    "plt.xlabel(\"time bin\")\n",
    "plt.ylabel(behave);"
   ]
  },
  {
   "cell_type": "markdown",
   "id": "6315c39f",
   "metadata": {},
   "source": [
    "## Save Dataset"
   ]
  },
  {
   "cell_type": "code",
   "execution_count": 19,
   "id": "2b42d98f",
   "metadata": {},
   "outputs": [],
   "source": [
    "dataset = create_dataset(binned_spikes, bwm_df, eid, params, meta_data=meta_data, binned_behaviors=None)\n",
    "upload_dataset(dataset)"
   ]
  },
  {
   "cell_type": "markdown",
   "id": "bb698cd6",
   "metadata": {},
   "source": [
    "## Download and Test Dataset"
   ]
  },
  {
   "cell_type": "code",
   "execution_count": null,
   "id": "9c10b5b3",
   "metadata": {},
   "outputs": [],
   "source": [
    "dataset = download_dataset()"
   ]
  },
  {
   "cell_type": "code",
   "execution_count": 20,
   "id": "0f2c6a30-590d-490f-8d59-dcf163a59cfb",
   "metadata": {},
   "outputs": [
    {
     "data": {
      "text/plain": [
       "Dataset({\n",
       "    features: ['spikes_sparse_data', 'spikes_sparse_indices', 'spikes_sparse_indptr', 'spikes_sparse_shape', 'binsize', 'interval_len', 'eid', 'probe_name', 'subject', 'lab', 'sampling_freq', 'cluster_regions', 'cluster_channels', 'good_clusters'],\n",
       "    num_rows: 3007\n",
       "})"
      ]
     },
     "execution_count": 20,
     "metadata": {},
     "output_type": "execute_result"
    }
   ],
   "source": [
    "dataset"
   ]
  },
  {
   "cell_type": "code",
   "execution_count": 28,
   "id": "b017472f",
   "metadata": {},
   "outputs": [
    {
     "name": "stdout",
     "output_type": "stream",
     "text": [
      "Shape of downloaded binned spikes: (3007, 100, 1255). Shape of original binned spikes: (3007, 100, 1255)\n"
     ]
    }
   ],
   "source": [
    "spikes_sparse_data_list = dataset['spikes_sparse_data']\n",
    "spikes_sparse_indices_list = dataset['spikes_sparse_indices']\n",
    "spikes_sparse_indptr_list = dataset['spikes_sparse_indptr']\n",
    "spikes_sparse_shape_list = dataset['spikes_sparse_shape']\n",
    "\n",
    "downloaded_binned_spikes = get_binned_spikes_from_sparse(spikes_sparse_data_list, spikes_sparse_indices_list, spikes_sparse_indptr_list, spikes_sparse_shape_list)\n",
    "\n",
    "print(f\"Shape of downloaded binned spikes: {downloaded_binned_spikes.shape}. Shape of original binned spikes: {binned_spikes.shape}\")"
   ]
  },
  {
   "cell_type": "code",
   "execution_count": null,
   "id": "e39a215c-6af8-423e-b30d-b7d71f1ce2fc",
   "metadata": {},
   "outputs": [],
   "source": []
  }
 ],
 "metadata": {
  "kernelspec": {
   "display_name": "Python 3 (ipykernel)",
   "language": "python",
   "name": "python3"
  },
  "language_info": {
   "codemirror_mode": {
    "name": "ipython",
    "version": 3
   },
   "file_extension": ".py",
   "mimetype": "text/x-python",
   "name": "python",
   "nbconvert_exporter": "python",
   "pygments_lexer": "ipython3",
   "version": "3.11.7"
  }
 },
 "nbformat": 4,
 "nbformat_minor": 5
}
