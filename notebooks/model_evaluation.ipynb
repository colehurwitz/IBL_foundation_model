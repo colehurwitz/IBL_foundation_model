{
 "cells": [
  {
   "cell_type": "markdown",
   "id": "ff50bd12-985e-4747-af6c-9a4e5125dffb",
   "metadata": {},
   "source": [
    "# Evaluation"
   ]
  },
  {
   "cell_type": "code",
   "execution_count": null,
   "id": "6c0c4215-7654-4dbf-a8dc-5ea977f2140f",
   "metadata": {},
   "outputs": [],
   "source": [
    "import sys\n",
    "import os\n",
    "\n",
    "# set your working dir\n",
    "work_dir = 'E:/IBL neural analysis/Github/remote/IBL_foundation_model'\n",
    "os.chdir(work_dir)\n",
    "print('working dir: ', work_dir)\n",
    "\n",
    "path = 'src'\n",
    "sys.path.append(str(path))\n",
    "\n",
    "from src.utils.eval_utils import load_model_data_local, co_smoothing, compare_R2_scatter"
   ]
  },
  {
   "cell_type": "markdown",
   "id": "b44fff2e-cc5d-46c7-989c-c806b6751550",
   "metadata": {},
   "source": [
    "### 1.Configuration & Load\n",
    "- The dataset will be split by `datasets.train_test_split(test_size=test_size, seed=seed)`"
   ]
  },
  {
   "cell_type": "code",
   "execution_count": null,
   "id": "b3c026aa-8d60-436e-a17f-4112501e1c36",
   "metadata": {
    "editable": true,
    "slideshow": {
     "slide_type": ""
    },
    "tags": []
   },
   "outputs": [],
   "source": [
    "# Configuration\n",
    "configs = {\n",
    "    'model_config': 'src/configs/ndt1.yaml',\n",
    "    'model_path': 'checkpoints/models/ndt1/ndt1_671c_unaligned_shuffle/model_best.pt',\n",
    "    'trainer_config': 'src/configs/trainer.yaml',\n",
    "    'dataset_path': 'data/671c7ea7-6726-4fbe-adeb-f89c2c8e489b_aligned', \n",
    "    'test_size': 0.15,\n",
    "    'seed': 42,\n",
    "}  "
   ]
  },
  {
   "cell_type": "code",
   "execution_count": null,
   "id": "74d0fc98-3231-4fdc-8a87-10da569aea5a",
   "metadata": {
    "editable": true,
    "slideshow": {
     "slide_type": ""
    },
    "tags": []
   },
   "outputs": [],
   "source": [
    "# load your model and dataloader\n",
    "model, accelerator, dataset, dataloader = load_model_data_local(**configs)"
   ]
  },
  {
   "cell_type": "markdown",
   "id": "1329e047-89bd-49e3-944d-b06809227a95",
   "metadata": {},
   "source": [
    "### 2.Co-smoothing (From N-1 to 1) "
   ]
  },
  {
   "cell_type": "code",
   "execution_count": null,
   "id": "a3ec2f3a-76b1-452f-a45b-c24ae0babf2f",
   "metadata": {
    "editable": true,
    "scrolled": true,
    "slideshow": {
     "slide_type": ""
    },
    "tags": []
   },
   "outputs": [],
   "source": [
    "co_smoothing_configs = {\n",
    "    'subtract': 'task',\n",
    "    'onset_alignment': [40],\n",
    "    'method_name': 'test', # used for file name of figures\n",
    "    'save_path': 'figs/test'\n",
    "}\n",
    "\n",
    "co_smoothing(model, accelerator, dataloader, dataset, **co_smoothing_configs)"
   ]
  },
  {
   "cell_type": "markdown",
   "id": "1d21ce22-8b5d-478d-9227-f02ea9dac156",
   "metadata": {
    "editable": true,
    "slideshow": {
     "slide_type": ""
    },
    "tags": []
   },
   "source": [
    "### 3.R2 Scatter Plot\n",
    "- First, run 1 & 2 for each model you want to compare. A `r2.npy` file would be generated in the corresponding figs directory. (the same directory as the `save_path` in 2.)"
   ]
  },
  {
   "cell_type": "code",
   "execution_count": null,
   "id": "b1a2f9b6-80ae-43f5-8d07-df90af67a10e",
   "metadata": {},
   "outputs": [],
   "source": [
    "compare_r2_configs = {\n",
    "    'A_path': 'figs/671c_ndt1_nm30_ualg_shuffle_best', # should be the same as the 'save_path' from above\n",
    "    'B_path': 'figs/671c_ndt1_nm30_alg(-0.4)_shuffle_last',\n",
    "    'A_name': 'unaligned',    # names for plots\n",
    "    'B_name': 'aligned'\n",
    "}    \n",
    "\n",
    "compare_R2_scatter(**compare_r2_configs)"
   ]
  },
  {
   "cell_type": "markdown",
   "id": "14a099a0-35b4-4122-b1db-b6d3031a2ab2",
   "metadata": {},
   "source": [
    "### 4. TODO"
   ]
  }
 ],
 "metadata": {
  "kernelspec": {
   "display_name": "Python 3 (ipykernel)",
   "language": "python",
   "name": "python3"
  },
  "language_info": {
   "codemirror_mode": {
    "name": "ipython",
    "version": 3
   },
   "file_extension": ".py",
   "mimetype": "text/x-python",
   "name": "python",
   "nbconvert_exporter": "python",
   "pygments_lexer": "ipython3",
   "version": "3.10.13"
  }
 },
 "nbformat": 4,
 "nbformat_minor": 5
}
