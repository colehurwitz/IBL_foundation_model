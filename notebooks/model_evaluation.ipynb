{
 "cells": [
  {
   "cell_type": "markdown",
   "id": "ff50bd12-985e-4747-af6c-9a4e5125dffb",
   "metadata": {},
   "source": [
    "# Evaluation"
   ]
  },
  {
   "cell_type": "code",
   "execution_count": 1,
   "id": "6c0c4215-7654-4dbf-a8dc-5ea977f2140f",
   "metadata": {},
   "outputs": [
    {
     "name": "stdout",
     "output_type": "stream",
     "text": [
      "working dir:  /home/yizi/IBL_foundation_model\n"
     ]
    }
   ],
   "source": [
    "import sys\n",
    "import os\n",
    "import importlib\n",
    "\n",
    "# set your working dir\n",
    "work_dir = '/home/yizi/IBL_foundation_model'\n",
    "os.chdir(work_dir)\n",
    "print('working dir: ', work_dir)\n",
    "\n",
    "path = 'src'\n",
    "sys.path.append(str(path))\n",
    "\n",
    "from src.utils.eval_utils import load_model_data_local, co_smoothing_r2, compare_R2_scatter, co_smoothing_bps, behavior_decoding"
   ]
  },
  {
   "cell_type": "markdown",
   "id": "b44fff2e-cc5d-46c7-989c-c806b6751550",
   "metadata": {},
   "source": [
    "### 1.Configuration & Load\n",
    "- The dataset will be split by `datasets.train_test_split(test_size=test_size, seed=seed)`"
   ]
  },
  {
   "cell_type": "code",
   "execution_count": 2,
   "id": "b3c026aa-8d60-436e-a17f-4112501e1c36",
   "metadata": {
    "editable": true,
    "slideshow": {
     "slide_type": ""
    },
    "tags": []
   },
   "outputs": [],
   "source": [
    "# Configuration\n",
    "configs = {\n",
    "    'model_config': 'src/configs/ndt1.yaml',\n",
    "    'model_path': 'checkpoints/models/ndt1/ndt1_671c_unaligned_shuffle/model_best.pt',\n",
    "    'trainer_config': 'src/configs/trainer.yaml',\n",
    "    'dataset_path': 'data/671c7ea7-6726-4fbe-adeb-f89c2c8e489b_aligned', \n",
    "    'test_size': 0.15,\n",
    "    'seed': 42,\n",
    "}  "
   ]
  },
  {
   "cell_type": "code",
   "execution_count": 3,
   "id": "74d0fc98-3231-4fdc-8a87-10da569aea5a",
   "metadata": {
    "editable": true,
    "slideshow": {
     "slide_type": ""
    },
    "tags": []
   },
   "outputs": [
    {
     "name": "stdout",
     "output_type": "stream",
     "text": [
      "seed set to 42\n",
      "bin size: 0.02\n",
      "len(dataset): 121\n",
      "spike data shape: torch.Size([121, 100, 668])\n"
     ]
    }
   ],
   "source": [
    "# load your model and dataloader\n",
    "model, accelerator, dataset, dataloader = load_model_data_local(**configs)"
   ]
  },
  {
   "cell_type": "markdown",
   "id": "1329e047-89bd-49e3-944d-b06809227a95",
   "metadata": {},
   "source": [
    "### 2.Co-smoothing (From N-1 to 1) \n",
    "- using `co_smoothing_r2` for r2 and psth/residual plots.\n",
    "- using `co_smoothing_bps` for co-bps stat."
   ]
  },
  {
   "cell_type": "code",
   "execution_count": null,
   "id": "a3ec2f3a-76b1-452f-a45b-c24ae0babf2f",
   "metadata": {
    "editable": true,
    "scrolled": true,
    "slideshow": {
     "slide_type": ""
    },
    "tags": []
   },
   "outputs": [],
   "source": [
    "co_smoothing_configs = {\n",
    "    'subtract': 'task',\n",
    "    'onset_alignment': [40],\n",
    "    'method_name': 'test', # used for file name of figures\n",
    "    'save_path': 'figs/test',\n",
    "    'mode': 'per_neuron',\n",
    "    'n_time_steps': 100,    \n",
    "    'is_aligned': True,\n",
    "    'target_regions': None\n",
    "}\n",
    "\n",
    "co_smoothing_eval(model, accelerator, dataloader, dataset, **co_smoothing_configs)"
   ]
  },
  {
   "cell_type": "markdown",
   "id": "e4e5acab-0b59-412f-a27d-67a2c30e870a",
   "metadata": {},
   "source": [
    "### 3. Forward Prediction\n",
    "- using `co_smoothing_r2` with mode `forward-pred` for r2 and psth/residual plots.\n",
    "- using `co_smoothing_bps` with mode `forward-pred` for co-bps stat."
   ]
  },
  {
   "cell_type": "code",
   "execution_count": null,
   "id": "f469d322-24a2-4e1d-8dac-a2fd536c270c",
   "metadata": {},
   "outputs": [],
   "source": [
    "co_smoothing_configs = {\n",
    "    'subtract': 'task',\n",
    "    'onset_alignment': [],\n",
    "    'method_name': 'test', # used for file name of figures\n",
    "    'save_path': 'figs/test',\n",
    "    'mode': 'forward_pred',\n",
    "    'n_time_steps': 100,    \n",
    "    'held_out_list': list(range(80, 100)),\n",
    "    'is_aligned': True,\n",
    "    'target_regions': None\n",
    "}\n",
    "\n",
    "co_smoothing_eval(model, accelerator, dataloader, dataset, **co_smoothing_configs)"
   ]
  },
  {
   "cell_type": "markdown",
   "id": "b6450d35-0211-4ba9-a248-f13f672f74d1",
   "metadata": {},
   "source": [
    "### 4. Inter-Region Prediction\n",
    "- using `co_smoothing_r2` with mode `inter_region` for r2 and psth/residual plots.\n",
    "- using `co_smoothing_bps` with mode `inter_region` for co-bps stat."
   ]
  },
  {
   "cell_type": "code",
   "execution_count": null,
   "id": "37f3958e-706a-4aa7-9fc1-9e638336cf5d",
   "metadata": {},
   "outputs": [],
   "source": [
    "co_smoothing_configs = {\n",
    "    'subtract': 'task',\n",
    "    'onset_alignment': [40],\n",
    "    'method_name': 'test', # used for file name of figures\n",
    "    'save_path': 'figs/test',\n",
    "    'mode': 'inter_region',\n",
    "    'n_time_steps': 100,    \n",
    "    'held_out_list': None,\n",
    "    'is_aligned': True,\n",
    "    'target_regions': ['all']\n",
    "}\n",
    "\n",
    "co_smoothing_eval(model, accelerator, dataloader, dataset, **co_smoothing_configs)"
   ]
  },
  {
   "cell_type": "markdown",
   "id": "74fcc28e-92a7-48e4-9149-e666f58289a3",
   "metadata": {},
   "source": [
    "### 5. Intra-Region Prediction\n",
    "- using `co_smoothing_r2` with mode `intra_region` for r2 and psth/residual plots.\n",
    "- using `co_smoothing_bps` with mode `intra_region` for co-bps stat."
   ]
  },
  {
   "cell_type": "code",
   "execution_count": null,
   "id": "74947f4e-8015-4486-8206-8182b1416866",
   "metadata": {},
   "outputs": [],
   "source": [
    "co_smoothing_configs = {\n",
    "    'subtract': 'task',\n",
    "    'onset_alignment': [40],\n",
    "    'method_name': 'test', # used for file name of figures\n",
    "    'save_path': 'figs/test',\n",
    "    'mode': 'intra_region',\n",
    "    'n_time_steps': 100,    \n",
    "    'held_out_list': None,\n",
    "    'is_aligned': True,\n",
    "    'target_regions': ['all']\n",
    "}\n",
    "\n",
    "co_smoothing_r2(model, accelerator, dataloader, dataset, **co_smoothing_configs)"
   ]
  },
  {
   "cell_type": "markdown",
   "id": "1d21ce22-8b5d-478d-9227-f02ea9dac156",
   "metadata": {
    "editable": true,
    "slideshow": {
     "slide_type": ""
    },
    "tags": []
   },
   "source": [
    "### 6. R2 Scatter Plot\n",
    "- First, run 1 & 2 for each model you want to compare. A `r2.npy` file would be generated in the corresponding figs directory. (the same directory as the `save_path` in 2.)"
   ]
  },
  {
   "cell_type": "code",
   "execution_count": null,
   "id": "b1a2f9b6-80ae-43f5-8d07-df90af67a10e",
   "metadata": {},
   "outputs": [],
   "source": [
    "compare_r2_configs = {\n",
    "    'A_path': 'figs/671c_ndt1_nm30_ualg_shuffle_best', # should be the same as the 'save_path' from above\n",
    "    'B_path': 'figs/671c_ndt1_nm30_alg(-0.4)_shuffle_last',\n",
    "    'A_name': 'unaligned',    # names for plots\n",
    "    'B_name': 'aligned'\n",
    "}    \n",
    "\n",
    "compare_R2_scatter(**compare_r2_configs)"
   ]
  },
  {
   "cell_type": "markdown",
   "id": "410646c5-5396-4a7b-a656-53a843090005",
   "metadata": {},
   "source": [
    "### 7. Behavior Decoding"
   ]
  },
  {
   "cell_type": "code",
   "execution_count": 2,
   "id": "2494d83c-5e7c-46fa-8898-e9224825479b",
   "metadata": {
    "editable": true,
    "slideshow": {
     "slide_type": ""
    },
    "tags": []
   },
   "outputs": [],
   "source": [
    "# Configuration\n",
    "configs = {\n",
    "    'model_config': 'src/configs/ndt1.yaml',\n",
    "    'model_path': '/home/yizi/IBL_foundation_model/results/method_ssl/mask_neuron/model_best.pt',\n",
    "    'trainer_config': 'src/configs/trainer_sl_choice.yaml',\n",
    "    'dataset_path': 'data/671c7ea7-6726-4fbe-adeb-f89c2c8e489b_aligned', \n",
    "    'save_path': 'figs/model_NDT1/method_ssl/mask_neuron/choice_decoding',\n",
    "    'test_size': 0.2,\n",
    "    'seed': 42,\n",
    "    'mask_name': 'mask_neuron',\n",
    "    'metric': 'acc',\n",
    "    'from_scratch': False,\n",
    "    'freeze_encoder': False\n",
    "}  "
   ]
  },
  {
   "cell_type": "code",
   "execution_count": null,
   "id": "68c369a7-5ae4-47f1-b6d8-9279add7f892",
   "metadata": {
    "editable": true,
    "slideshow": {
     "slide_type": ""
    },
    "tags": []
   },
   "outputs": [],
   "source": [
    "# load your model and dataloader\n",
    "results = behavior_decoding(**configs)"
   ]
  },
  {
   "cell_type": "markdown",
   "id": "14a099a0-35b4-4122-b1db-b6d3031a2ab2",
   "metadata": {},
   "source": [
    "### 8. TODO"
   ]
  },
  {
   "cell_type": "code",
   "execution_count": null,
   "id": "40fe540a-9e1d-4456-93f2-af2a041ca985",
   "metadata": {},
   "outputs": [],
   "source": []
  }
 ],
 "metadata": {
  "kernelspec": {
   "display_name": "Python 3 (ipykernel)",
   "language": "python",
   "name": "python3"
  },
  "language_info": {
   "codemirror_mode": {
    "name": "ipython",
    "version": 3
   },
   "file_extension": ".py",
   "mimetype": "text/x-python",
   "name": "python",
   "nbconvert_exporter": "python",
   "pygments_lexer": "ipython3",
   "version": "3.11.9"
  }
 },
 "nbformat": 4,
 "nbformat_minor": 5
}
